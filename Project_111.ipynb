{
  "nbformat": 4,
  "nbformat_minor": 0,
  "metadata": {
    "colab": {
      "name": "Project - 111",
      "provenance": [],
      "collapsed_sections": [],
      "authorship_tag": "ABX9TyN96oCrUxF7s5tNbZaiYMDR",
      "include_colab_link": true
    },
    "kernelspec": {
      "name": "python3",
      "display_name": "Python 3"
    },
    "language_info": {
      "name": "python"
    }
  },
  "cells": [
    {
      "cell_type": "markdown",
      "metadata": {
        "id": "view-in-github",
        "colab_type": "text"
      },
      "source": [
        "<a href=\"https://colab.research.google.com/github/NishadSoney/Project---111/blob/master/Project_111.ipynb\" target=\"_parent\"><img src=\"https://colab.research.google.com/assets/colab-badge.svg\" alt=\"Open In Colab\"/></a>"
      ]
    },
    {
      "cell_type": "code",
      "metadata": {
        "id": "13bOZuwwCJMh",
        "colab": {
          "base_uri": "https://localhost:8080/"
        },
        "outputId": "5e1fe0c0-4c15-4306-95fe-4cb76680f4b2"
      },
      "source": [
        "import plotly.figure_factory as ff\n",
        "import plotly.graph_objects as go\n",
        "import statistics\n",
        "import random\n",
        "import pandas as pd\n",
        "import csv\n",
        "\n",
        "#Change the School data here\n",
        "df = pd.read_csv(\"School2.csv\")\n",
        "data = df[\"Math_score\"].tolist()\n",
        "\n",
        "\n",
        "##  code to find the mean of 100 data points 1000 times \n",
        "#function to get the mean of the given data samples\n",
        "# pass the number of data points you want  as counter\n",
        "def random_set_of_mean(counter):\n",
        "    dataset = []\n",
        "    for i in range(0, counter):\n",
        "        random_index= random.randint(0,len(data)-1)\n",
        "        value = data[random_index]\n",
        "        dataset.append(value)\n",
        "    mean = statistics.mean(dataset)\n",
        "    return mean\n",
        "\n",
        "\n",
        "# Function to get the mean of 100 data sets\n",
        "mean_list = []\n",
        "for i in range(0,1000):\n",
        "    set_of_means= random_set_of_mean(100)\n",
        "    mean_list.append(set_of_means)\n",
        "\n",
        "\n",
        "## calculating mean and standard_deviation of the sampling distribution.\n",
        "std_deviation = statistics.stdev(mean_list)\n",
        "mean = statistics.mean(mean_list)\n",
        "print(\"mean of sampling distribution:- \",mean)\n",
        "print(\"Standard deviation of sampling distribution:- \", std_deviation)\n",
        "\n",
        "\n",
        "\n",
        "## findig the standard deviation starting and ending values\n",
        "first_std_deviation_start, first_std_deviation_end = mean-std_deviation, mean+std_deviation\n",
        "second_std_deviation_start, second_std_deviation_end = mean-(2*std_deviation), mean+(2*std_deviation)\n",
        "third_std_deviation_start, third_std_deviation_end = mean-(3*std_deviation), mean+(3*std_deviation)\n",
        "# print(\"std1\",first_std_deviation_start, first_std_deviation_end)\n",
        "# print(\"std2\",second_std_deviation_start, second_std_deviation_end)\n",
        "# print(\"std3\",third_std_deviation_start,third_std_deviation_end)\n",
        "\n",
        "\n",
        "\n",
        "\n",
        "# # finding the mean of THE STUDENTS WHO GAVE EXTRA TIME TO MATH LAB and plotting on graph\n",
        "df = pd.read_csv(\"School_1_Sample.csv\")\n",
        "data = df[\"Math_score\"].tolist()\n",
        "mean_of_sample1 = statistics.mean(data)\n",
        "print(\"Mean of sample1:- \",mean_of_sample1)\n",
        "fig = ff.create_distplot([mean_list], [\"student marks\"], show_hist=False)\n",
        "fig.add_trace(go.Scatter(x=[mean, mean], y=[0, 0.17], mode=\"lines\", name=\"MEAN\"))\n",
        "fig.add_trace(go.Scatter(x=[mean_of_sample1, mean_of_sample1], y=[0, 0.17], mode=\"lines\", name=\"MEAN OF STUDENTS WHO HAD MATH LABS\"))\n",
        "fig.add_trace(go.Scatter(x=[first_std_deviation_end, first_std_deviation_end], y=[0, 0.17], mode=\"lines\", name=\"STANDARD DEVIATION 1 END\"))\n",
        "fig.add_trace(go.Scatter(x=[second_std_deviation_end, second_std_deviation_end], y=[0, 0.17], mode=\"lines\", name=\"STANDARD DEVIATION 2 END\"))\n",
        "fig.add_trace(go.Scatter(x=[third_std_deviation_end, third_std_deviation_end], y=[0, 0.17], mode=\"lines\", name=\"STANDARD DEVIATION 3 END\"))\n",
        "fig.show()\n",
        "\n",
        "\n",
        "\n",
        "\n",
        "# #finding the mean of the STUDENTS WHO USED MATH PRACTISE APP and plotting it on the plot.\n",
        "df = pd.read_csv(\"School_2_Sample.csv\")\n",
        "data = df[\"Math_score\"].tolist()\n",
        "mean_of_sample2 = statistics.mean(data)\n",
        "print(\"mean of sample 2:- \",mean_of_sample2)\n",
        "fig = ff.create_distplot([mean_list], [\"student marks\"], show_hist=False)\n",
        "fig.add_trace(go.Scatter(x=[mean, mean], y=[0, 0.17], mode=\"lines\", name=\"MEAN\"))\n",
        "fig.add_trace(go.Scatter(x=[mean_of_sample2, mean_of_sample2], y=[0, 0.17], mode=\"lines\", name=\"MEAN OF STUDENTS WHO USED THE APP\"))\n",
        "fig.add_trace(go.Scatter(x=[first_std_deviation_end, first_std_deviation_end], y=[0, 0.17], mode=\"lines\", name=\"STANDARD DEVIATION 1 END\"))\n",
        "fig.add_trace(go.Scatter(x=[second_std_deviation_end, second_std_deviation_end], y=[0, 0.17], mode=\"lines\", name=\"STANDARD DEVIATION 2 END\"))\n",
        "fig.add_trace(go.Scatter(x=[third_std_deviation_end, third_std_deviation_end], y=[0, 0.17], mode=\"lines\", name=\"STANDARD DEVIATION 3 END\"))\n",
        "fig.show()\n",
        "\n",
        "\n",
        "# finding the mean of the STUDENTS WHO WERE ENFORCED WITH REGISTERS and plotting it on the plot.\n",
        "df = pd.read_csv(\"School_3_Sample.csv\")\n",
        "data = df[\"Math_score\"].tolist()\n",
        "mean_of_sample3 = statistics.mean(data)\n",
        "print(\"mean of sample3:- \",mean_of_sample3)\n",
        "fig = ff.create_distplot([mean_list], [\"student marks\"], show_hist=False)\n",
        "fig.add_trace(go.Scatter(x=[mean, mean], y=[0, 0.17], mode=\"lines\", name=\"MEAN\"))\n",
        "fig.add_trace(go.Scatter(x=[mean_of_sample3, mean_of_sample3], y=[0, 0.17], mode=\"lines\", name=\"MEAN OF STUDNETS WHO WERE ENFORCED WITH MATH REGISTERS\"))\n",
        "fig.add_trace(go.Scatter(x=[second_std_deviation_end, second_std_deviation_end], y=[0, 0.17], mode=\"lines\", name=\"STANDARD DEVIATION 2 END\"))\n",
        "fig.add_trace(go.Scatter(x=[third_std_deviation_end, third_std_deviation_end], y=[0, 0.17], mode=\"lines\", name=\"STANDARD DEVIATION 3 END\"))\n",
        "fig.show()\n",
        "\n",
        "\n",
        "#finding the z score using the formula\n",
        "z_score = (mean - mean_of_sample2)/std_deviation\n",
        "print(\"The z score is = \",z_score)"
      ],
      "execution_count": null,
      "outputs": [
        {
          "output_type": "stream",
          "name": "stdout",
          "text": [
            "Mean is  394.3\n",
            "Standard Deviation is  847.2987440189921\n"
          ]
        }
      ]
    }
  ]
}